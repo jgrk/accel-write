{
 "cells": [
  {
   "metadata": {},
   "cell_type": "markdown",
   "source": [
    "# Main analysis of data\n",
    "## This notebook is intended to be a structured results collection from tools developed locally\n",
    "### more infoo\n",
    "\n",
    "\n",
    "\n",
    "---\n"
   ],
   "id": "6fc21901f825527c"
  },
  {
   "metadata": {},
   "cell_type": "markdown",
   "source": [
    "## Statistics\n",
    "### Envelope enhancer\n",
    "#### In this section, FFT is performed and analyzed on regions of interest for each record.\n",
    "Regions of interest is determined by the envelope of the signal. \n",
    "\n",
    "Pipeline:\n",
    "1. Detrending\n",
    "2. Savgol filter\n",
    "3. Segmentation (Envelope enhancer)\n",
    "4. FFT\n",
    "\n",
    "Statistical values considered:\n",
    "- The mean, variance and std. error of every freqcuency corresponding to a max value in its window."
   ],
   "id": "4ed064d9b5ba9cb"
  },
  {
   "metadata": {},
   "cell_type": "markdown",
   "source": "### Imports",
   "id": "8d2b76fceaf1ff95"
  },
  {
   "metadata": {
    "ExecuteTime": {
     "end_time": "2025-04-27T14:02:50.622507Z",
     "start_time": "2025-04-27T14:02:49.777104Z"
    }
   },
   "cell_type": "code",
   "source": [
    "from ski_analys import DataRecord, simple_segmentation, envelope_enhancer, savgol_helper, enhanced_fft\n",
    "import pathlib\n",
    "import os\n",
    "import matplotlib.pyplot as plt\n",
    "import numpy as np\n",
    "\n",
    "def load_data(filter_params, file):\n",
    "    data = DataRecord(file)\n",
    "    for filter in filter_params:\n",
    "        if filter not in data.metadata:\n",
    "            return None     \n",
    "        if data.metadata[filter] not in filter_params[filter]:\n",
    "            return None\n",
    "    return data"
   ],
   "id": "2dd783db5e422d67",
   "outputs": [],
   "execution_count": 1
  },
  {
   "metadata": {
    "ExecuteTime": {
     "end_time": "2025-04-27T14:03:02.525396Z",
     "start_time": "2025-04-27T14:02:59.537395Z"
    }
   },
   "cell_type": "code",
   "source": [
    "csv_data_path = pathlib.Path(\"data/\")\n",
    "result_path = pathlib.Path(\"testing/\")\n",
    "for file in csv_data_path.glob(\"*.csv\"):\n",
    "    enhanced_fft(file=file, save_path=\"testing/\", enhance_method=envelope_enhancer, filter=None, window_length=20, polyorder=3, axis=0, n_out=50, width=(400, 1600), prominence =(None, 20), detrending=True)\n",
    "print(\"Done!\")"
   ],
   "id": "9bc487e455070f44",
   "outputs": [
    {
     "name": "stdout",
     "output_type": "stream",
     "text": [
      "Done!\n"
     ]
    }
   ],
   "execution_count": 2
  },
  {
   "metadata": {
    "ExecuteTime": {
     "end_time": "2025-04-26T12:31:07.860559Z",
     "start_time": "2025-04-26T12:31:07.860408Z"
    }
   },
   "cell_type": "code",
   "source": [
    "result_path = pathlib.Path(\"testing/\")\n",
    "data = [DataRecord(file) for file in result_path.iterdir() if file.is_file()]\n",
    "x_data = [x for x in data if x.metadata['coord'] == 'x']\n",
    "y_data = [x for x in data if x.metadata['coord'] == 'y']\n",
    "z_data = [x for x in data if x.metadata['coord'] == 'z']"
   ],
   "id": "cfcd0ddb640f87ad",
   "outputs": [],
   "execution_count": null
  },
  {
   "metadata": {},
   "cell_type": "code",
   "source": [
    "highest_freqs = []\n",
    "for obj in x_data:\n",
    "    freq, mag = zip(*obj.data[5:len(obj.data)//2])\n",
    "    \n",
    "    \n",
    "    index = np.argmax(mag)\n",
    "    highest_freqs.append(freq[index])\n",
    "\n",
    "np.var(highest_freqs), np.mean(highest_freqs), np.std(highest_freqs)\n",
    "highest_freqs"
   ],
   "id": "ab17d4936347bd5e",
   "outputs": [],
   "execution_count": null
  },
  {
   "metadata": {},
   "cell_type": "code",
   "source": [
    "freq, mag = zip(*x_data[0].data[:len(x_data[0].data)//2])\n",
    "plt.xlim(0, 20)\n",
    "plt.plot(freq, mag)\n",
    "x_data[0].metadata"
   ],
   "id": "dd4f1ef39144d2e4",
   "outputs": [],
   "execution_count": null
  },
  {
   "metadata": {},
   "cell_type": "code",
   "source": [
    "sample = [x for x in data if x.metadata['record'] == \"5\" and x.metadata['coord'] == 'z' and x.metadata['accel'] == '2']\n",
    "n = len(sample[0].data)\n",
    "x,y = zip(*sample[8].data[0:n//2])\n",
    "\n",
    "plt.xlim(0, 50)\n",
    "plt.plot(x,y)\n",
    "np.argmax(y)\n",
    "x[np.argmax(y)]"
   ],
   "id": "f52cb0ce254cb7de",
   "outputs": [],
   "execution_count": null
  },
  {
   "metadata": {},
   "cell_type": "code",
   "source": [
    "\n",
    "    "
   ],
   "id": "c4846097a4dc92f",
   "outputs": [],
   "execution_count": null
  },
  {
   "metadata": {},
   "cell_type": "markdown",
   "source": [
    "### Analyze Hannas data\n",
    "#### Filter based on:\n",
    "- Records in range 1-9 \n",
    "- Accelerometer Both"
   ],
   "id": "2365ccf23d2bfa6a"
  },
  {
   "metadata": {
    "ExecuteTime": {
     "end_time": "2025-04-27T14:08:04.211025Z",
     "start_time": "2025-04-27T14:08:03.604637Z"
    }
   },
   "cell_type": "code",
   "source": [
    "# filter\n",
    "filter = {\n",
    "    \"record\": [\"1\", \"2\", \"3\", \"4\", \"5\", \"6\", \"7\", \"8\", \"9\", \"10\"], # skip record 0, it was a test run\n",
    "    \"accel\": [\"1\",\"2\"]\n",
    "}\n",
    "\n",
    "result_path = pathlib.Path(\"testing/\")\n",
    "records = {\n",
    "    \"x\": [],\n",
    "    \"y\": [],\n",
    "    \"z\": []\n",
    "}\n",
    "\n",
    "# itterate through results files, filter and load\n",
    "for file in result_path.iterdir():\n",
    "    if file.is_file():\n",
    "        data = load_data(filter, file)\n",
    "        if data:\n",
    "            records[data.coord].append(data)\n",
    "\n",
    "x_freq_peaks = [record.freq_peak for record in records[\"x\"]]\n",
    "y_freq_peaks = [record.freq_peak for record in records[\"y\"]]\n",
    "z_freq_peaks = [record.freq_peak for record in records[\"z\"]]\n",
    "\n",
    "# results\n",
    "np.mean(x_freq_peaks), np.mean(y_freq_peaks), np.mean(z_freq_peaks)\n"
   ],
   "id": "5e6071a23cd03b3d",
   "outputs": [
    {
     "data": {
      "text/plain": [
       "(np.float64(13.437019757086984),\n",
       " np.float64(39.22101542950132),\n",
       " np.float64(14.832274533073393))"
      ]
     },
     "execution_count": 3,
     "metadata": {},
     "output_type": "execute_result"
    }
   ],
   "execution_count": 3
  },
  {
   "metadata": {
    "ExecuteTime": {
     "end_time": "2025-04-27T14:08:07.060276Z",
     "start_time": "2025-04-27T14:08:06.891399Z"
    }
   },
   "cell_type": "code",
   "source": [
    "plt.xlim(0,100)\n",
    "plt.figure()\n",
    "for x in [1,2,3,4,5]:\n",
    "    plt.plot(records[\"z\"][x].freqs[5:], records[\"z\"][x].mags[5:], label=f\"record {x}\")\n",
    "    print(len(records[\"z\"][x].mags[5:]))\n",
    "    \n",
    "plt.legend()\n",
    "plt.xlim(0,100)\n",
    "plt.show()\n"
   ],
   "id": "f033200f450b5f48",
   "outputs": [
    {
     "name": "stdout",
     "output_type": "stream",
     "text": [
      "244\n",
      "244\n",
      "139\n",
      "146\n",
      "314\n"
     ]
    },
    {
     "data": {
      "text/plain": [
       "<Figure size 640x480 with 1 Axes>"
      ],
      "image/png": "[encoded data removed]"
     },
     "metadata": {},
     "output_type": "display_data"
    },
    {
     "data": {
      "text/plain": [
       "<Figure size 640x480 with 1 Axes>"
      ],
      "image/png": "[encoded data removed]"
     },
     "metadata": {},
     "output_type": "display_data"
    }
   ],
   "execution_count": 4
  },
  {
   "metadata": {},
   "cell_type": "markdown",
   "source": "#### Hannas data by accel",
   "id": "c93ae5e149c4d598"
  },
  {
   "metadata": {
    "ExecuteTime": {
     "end_time": "2025-04-27T13:11:18.060608Z",
     "start_time": "2025-04-27T13:11:18.031354Z"
    }
   },
   "cell_type": "code",
   "source": [
    "\n",
    "x_freq_peaks_1 = [record.freq_peak for record in records[\"x\"] if record.accel == \"1\"]\n",
    "y_freq_peaks_1 = [record.freq_peak for record in records[\"y\"] if record.accel == \"1\"]\n",
    "z_freq_peaks_1 = [record.freq_peak for record in records[\"z\"] if record.accel == \"1\"]\n",
    "\n",
    "x_freq_peaks_2 = [record.freq_peak for record in records[\"x\"] if record.accel == \"2\"]\n",
    "y_freq_peaks_2 = [record.freq_peak for record in records[\"y\"] if record.accel == \"2\"]\n",
    "z_freq_peaks_2 = [record.freq_peak for record in records[\"z\"] if record.accel == \"2\"]\n",
    "\n",
    "# results\n",
    "\n",
    "print(f\"Accel 1:\\n\"\n",
    "      f\"mean x: {np.mean(x_freq_peaks_1)}, mean y: {np.mean(y_freq_peaks_1)}, mean z: {np.mean(z_freq_peaks_1)}\\n\"\n",
    "      f\"std x: {np.std(x_freq_peaks_1)}, std y: {np.std(y_freq_peaks_1)}, std z: {np.std(z_freq_peaks_1)}\\n\"\n",
    "      f\"var x: {np.var(x_freq_peaks_1)}, var y: {np.var(y_freq_peaks_1)}, var z: {np.var(z_freq_peaks_1)}\\n\")\n",
    "\n",
    "print(f\"Accel 2:\\n\"\n",
    "      f\"mean x: {np.mean(x_freq_peaks_2)}, mean y: {np.mean(y_freq_peaks_2)}, mean z: {np.mean(z_freq_peaks_2)}\\n\"\n",
    "      f\"std x: {np.std(x_freq_peaks_2)}, std y: {np.std(y_freq_peaks_2)}, std z: {np.std(z_freq_peaks_2)}\\n\"\n",
    "      f\"var x: {np.var(x_freq_peaks_2)}, var y: {np.var(y_freq_peaks_2)}, var z: {np.var(z_freq_peaks_2)}\\n\")\n",
    "\n"
   ],
   "id": "ea23bc0d8a127ef",
   "outputs": [
    {
     "name": "stdout",
     "output_type": "stream",
     "text": [
      "Accel 1:\n",
      "mean x: 13.034755970150131, mean y: 18.479621260443558, mean z: 15.23094699575633\n",
      "std x: 13.938063222824644, std y: 31.068034786074655, std z: 11.453231677976193\n",
      "var x: 194.2696064034569, var y: 965.2227854687449, var z: 131.17651586939735\n",
      "\n",
      "Accel 2:\n",
      "mean x: 13.665706465409826, mean y: 62.075028472676124, mean z: 15.299896991664133\n",
      "std x: 2.6999242730020048, std y: 8.598006065815126, std z: 2.4860893523345715\n",
      "var x: 7.289591079945403, var y: 73.9257083077937, var z: 6.180640267791329\n",
      "\n"
     ]
    }
   ],
   "execution_count": 10
  },
  {
   "metadata": {},
   "cell_type": "markdown",
   "source": [
    "### Eriks data\n",
    "filter based on:\n",
    "- Records in range 11-19\n",
    "- Accelerometer: Both"
   ],
   "id": "e4d571ceaab166d"
  },
  {
   "metadata": {
    "ExecuteTime": {
     "end_time": "2025-04-27T13:12:10.019366Z",
     "start_time": "2025-04-27T13:12:09.280976Z"
    }
   },
   "cell_type": "code",
   "source": [
    "# filter\n",
    "filter = {\n",
    "    \"record\": [\"11\", \"12\", \"13\", \"14\", \"15\", \"16\", \"17\", \"18\", \"19\"], # skip record 0, it was a test run\n",
    "    \"accel\": [\"1\",\"2\"]\n",
    "}\n",
    "\n",
    "result_path = pathlib.Path(\"testing/\")\n",
    "records = {\n",
    "    \"x\": [],\n",
    "    \"y\": [],\n",
    "    \"z\": []\n",
    "}\n",
    "\n",
    "for file in result_path.iterdir():\n",
    "    if file.is_file():\n",
    "        data = load_data(filter, file)\n",
    "        if data:\n",
    "            records[data.coord].append(data)\n",
    "\n",
    "x_freq_peaks = [record.freq_peak for record in records[\"x\"]]\n",
    "y_freq_peaks = [record.freq_peak for record in records[\"y\"]]\n",
    "z_freq_peaks = [record.freq_peak for record in records[\"z\"]]\n",
    "\n",
    "np.mean(x_freq_peaks), np.mean(y_freq_peaks), np.mean(z_freq_peaks)"
   ],
   "id": "58c6afe9e7e5d834",
   "outputs": [
    {
     "data": {
      "text/plain": [
       "(np.float64(10.54577652163909),\n",
       " np.float64(33.51518596084816),\n",
       " np.float64(14.469273033270953))"
      ]
     },
     "execution_count": 11,
     "metadata": {},
     "output_type": "execute_result"
    }
   ],
   "execution_count": 11
  },
  {
   "metadata": {
    "ExecuteTime": {
     "end_time": "2025-04-27T13:12:12.642518Z",
     "start_time": "2025-04-27T13:12:12.613559Z"
    }
   },
   "cell_type": "code",
   "source": [
    "\n",
    "x_freq_peaks_1 = [record.freq_peak for record in records[\"x\"] if record.accel == \"1\"]\n",
    "y_freq_peaks_1 = [record.freq_peak for record in records[\"y\"] if record.accel == \"1\"]\n",
    "z_freq_peaks_1 = [record.freq_peak for record in records[\"z\"] if record.accel == \"1\"]\n",
    "\n",
    "x_freq_peaks_2 = [record.freq_peak for record in records[\"x\"] if record.accel == \"2\"]\n",
    "y_freq_peaks_2 = [record.freq_peak for record in records[\"y\"] if record.accel == \"2\"]\n",
    "z_freq_peaks_2 = [record.freq_peak for record in records[\"z\"] if record.accel == \"2\"]\n",
    "\n",
    "# results\n",
    "\n",
    "print(f\"Accel 1:\\n\"\n",
    "      f\"mean x: {np.mean(x_freq_peaks_1)}, mean y: {np.mean(y_freq_peaks_1)}, mean z: {np.mean(z_freq_peaks_1)}\\n\"\n",
    "      f\"std x: {np.std(x_freq_peaks_1)}, std y: {np.std(y_freq_peaks_1)}, std z: {np.std(z_freq_peaks_1)}\\n\"\n",
    "      f\"var x: {np.var(x_freq_peaks_1)}, var y: {np.var(y_freq_peaks_1)}, var z: {np.var(z_freq_peaks_1)}\\n\")\n",
    "\n",
    "print(f\"Accel 2:\\n\"\n",
    "      f\"mean: x: {np.mean(x_freq_peaks_2)}, y: {np.mean(y_freq_peaks_2)}, z: {np.mean(z_freq_peaks_2)}\\n\"\n",
    "      f\"std: x: {np.std(x_freq_peaks_2)}, y: {np.std(y_freq_peaks_2)}, z: {np.std(z_freq_peaks_2)}\\n\"\n",
    "      f\"var: x: {np.var(x_freq_peaks_2)}, y: {np.var(y_freq_peaks_2)}, z: {np.var(z_freq_peaks_2)}\\n\")\n",
    "\n"
   ],
   "id": "40ea8958cc4cf508",
   "outputs": [
    {
     "name": "stdout",
     "output_type": "stream",
     "text": [
      "Accel 1:\n",
      "mean x: 7.575206544057445, mean y: 9.615192242561394, mean z: 13.872341933941112\n",
      "std x: 7.4617262946819425, std y: 17.282758993262238, std z: 8.947665540190801\n",
      "var x: 55.677359296747916, var y: 298.69375841918674, var z: 80.06071861911795\n",
      "\n",
      "Accel 2:\n",
      "mean: x: 13.439188837465366, y: 55.37493631293971, z: 15.095682211580048\n",
      "std: x: 6.958819731923405, y: 21.452498695717093, z: 3.278993209594747\n",
      "var: x: 48.42517206140652, y: 460.2097002897436, z: 10.751796468568463\n",
      "\n"
     ]
    }
   ],
   "execution_count": 12
  },
  {
   "metadata": {},
   "cell_type": "code",
   "source": "",
   "id": "50b262db45eef241",
   "outputs": [],
   "execution_count": null
  }
 ],
 "metadata": {
  "kernelspec": {
   "name": "python3",
   "language": "python",
   "display_name": "Python 3 (ipykernel)"
  }
 },
 "nbformat": 5,
 "nbformat_minor": 9
}
