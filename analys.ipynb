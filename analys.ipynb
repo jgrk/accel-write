{
 "cells": [
  {
   "metadata": {},
   "cell_type": "markdown",
   "source": [
    "# Main analysis of data\n",
    "## This notebook is intended to be a structured results collection from tools developed locally\n",
    "### more infoo\n",
    "\n",
    "\n",
    "\n",
    "---\n"
   ],
   "id": "6fc21901f825527c"
  },
  {
   "metadata": {},
   "cell_type": "markdown",
   "source": [
    "# Statistics\n",
    "---\n",
    "### Envelope enhancer\n"
   ],
   "id": "4ed064d9b5ba9cb"
  },
  {
   "metadata": {
    "ExecuteTime": {
     "end_time": "2025-04-24T20:10:27.457104Z",
     "start_time": "2025-04-24T20:09:53.284447Z"
    }
   },
   "cell_type": "code",
   "source": [
    "from ski_analys import DataRecord, simple_segmentation, envelope_enhancer, savgol_helper, enhanced_fft\n",
    "import pathlib\n",
    "import os\n",
    "# generate data to analyze\n",
    "csv_data_path = pathlib.Path(\"csv_data/\")\n",
    "result_path = pathlib.Path(\"testing/\")\n",
    "for file in csv_data_path.iterdir():\n",
    "    enhanced_fft(file=file, save_path=\"testing/\", enhance_method=envelope_enhancer, filter=savgol_helper, window_length=20, polyorder=3, axis=0, n_out=50, width=(1, None), prominence =(None, 20), detrending=False)\n",
    "print(\"Done!\")"
   ],
   "id": "32825981553442c",
   "outputs": [
    {
     "name": "stdout",
     "output_type": "stream",
     "text": [
      "Done!\n"
     ]
    }
   ],
   "execution_count": 102
  },
  {
   "metadata": {
    "ExecuteTime": {
     "end_time": "2025-04-25T06:59:57.116713Z",
     "start_time": "2025-04-25T06:59:55.580596Z"
    }
   },
   "cell_type": "code",
   "source": [
    "import pathlib\n",
    "from ski_analys import DataRecord, simple_segmentation, envelope_enhancer"
   ],
   "id": "530ee8e01ebfa9f6",
   "outputs": [],
   "execution_count": 6
  },
  {
   "metadata": {
    "ExecuteTime": {
     "end_time": "2025-04-25T07:00:01.604985Z",
     "start_time": "2025-04-25T06:59:57.758948Z"
    }
   },
   "cell_type": "code",
   "source": [
    "# try instantiating each record with DataRecord\n",
    "\n",
    "result_path = pathlib.Path(\"testing/\")\n",
    "data = [DataRecord(file) for file in result_path.iterdir() if file.is_file()]\n",
    "x_data = [x for x in data if x.metadata['coord'] == 'x']\n",
    "y_data = [x for x in data if x.metadata['coord'] == 'y']\n",
    "z_data = [x for x in data if x.metadata['coord'] == 'z']\n"
   ],
   "id": "ef1fc8b45eeefc6",
   "outputs": [],
   "execution_count": 7
  },
  {
   "metadata": {
    "ExecuteTime": {
     "end_time": "2025-04-25T07:00:03.748766Z",
     "start_time": "2025-04-25T07:00:03.636523Z"
    }
   },
   "cell_type": "code",
   "source": [
    "import matplotlib.pyplot as plt\n",
    "import numpy as np\n",
    "highest_freqs = []\n",
    "for obj in x_data:\n",
    "    freq, mag = zip(*obj.data)\n",
    "    index = np.argmax(mag)\n",
    "    highest_freqs.append(freq[index])\n",
    "\n",
    "np.var(highest_freqs), np.mean(highest_freqs), np.std(highest_freqs)\n",
    "\n"
   ],
   "id": "89e14cc17c08df69",
   "outputs": [
    {
     "data": {
      "text/plain": [
       "(np.float64(41.34406778977845),\n",
       " np.float64(3.976587445972662),\n",
       " np.float64(6.429935286593361))"
      ]
     },
     "execution_count": 8,
     "metadata": {},
     "output_type": "execute_result"
    }
   ],
   "execution_count": 8
  },
  {
   "metadata": {
    "ExecuteTime": {
     "end_time": "2025-04-25T07:13:11.914640Z",
     "start_time": "2025-04-25T07:13:11.819531Z"
    }
   },
   "cell_type": "code",
   "source": [
    "sample = [x for x in data if x.metadata['record'] == \"5\" and x.metadata['coord'] == 'z' and x.metadata['accel'] == '2']\n",
    "n = len(sample[0].data)\n",
    "x,y = zip(*sample[8].data[:n//2])\n",
    "\n",
    "plt.xlim(0)\n",
    "plt.plot(x,y)\n",
    "np.argmax(y)\n",
    "x[np.argmax(y)]\n",
    "\n",
    "\n",
    "\n"
   ],
   "id": "eb078dfdb51ffbc7",
   "outputs": [
    {
     "data": {
      "text/plain": [
       "0.0"
      ]
     },
     "execution_count": 13,
     "metadata": {},
     "output_type": "execute_result"
    },
    {
     "data": {
      "text/plain": [
       "<Figure size 640x480 with 1 Axes>"
      ],
      "image/png": "[encoded data removed]"
     },
     "metadata": {},
     "output_type": "display_data"
    }
   ],
   "execution_count": 13
  }
 ],
 "metadata": {
  "kernelspec": {
   "name": "python3",
   "language": "python",
   "display_name": "Python 3 (ipykernel)"
  }
 },
 "nbformat": 5,
 "nbformat_minor": 9
}
