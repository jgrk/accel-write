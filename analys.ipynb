{
 "cells": [
  {
   "metadata": {},
   "cell_type": "markdown",
   "source": [
    "# Main analysis of data\n",
    "## This notebook is intended to be a structured results collection from tools developed locally\n",
    "### more infoo\n",
    "\n",
    "\n",
    "\n",
    "---\n"
   ],
   "id": "6fc21901f825527c"
  },
  {
   "metadata": {},
   "cell_type": "markdown",
   "source": [
    "# Statistics\n",
    "---\n",
    "### Envelope enhancer\n"
   ],
   "id": "4ed064d9b5ba9cb"
  },
  {
   "metadata": {
    "ExecuteTime": {
     "end_time": "2025-04-23T17:06:42.286083Z",
     "start_time": "2025-04-23T17:06:39.430420Z"
    }
   },
   "cell_type": "code",
   "source": [
    "from ski_analys import DataRecord, simple_segmentation, envelope_enhancer, savgol_helper, enhanced_fft\n",
    "import pathlib\n",
    "import os\n",
    "# generate data to analyze\n",
    "csv_data_path = pathlib.Path(\"csv_data/\")\n",
    "result_path = pathlib.Path(\"testing/\")\n",
    "for file in csv_data_path.iterdir():\n",
    "    enhanced_fft(file=file, save_path=\"testing/\", enhance_method=envelope_enhancer, filter=savgol_helper, window_length=20, polyorder=3, axis=0, n_out=100, width=(3, 100), detrending=False)\n",
    "print(\"Done!\")"
   ],
   "id": "32825981553442c",
   "outputs": [
    {
     "name": "stdout",
     "output_type": "stream",
     "text": [
      "Done!\n"
     ]
    }
   ],
   "execution_count": 3
  },
  {
   "metadata": {
    "ExecuteTime": {
     "end_time": "2025-04-23T17:10:24.925788Z",
     "start_time": "2025-04-23T17:10:23.930911Z"
    }
   },
   "cell_type": "code",
   "source": [
    "# try instantiating each record with DataRecord\n",
    "data = [DataRecord(file) for file in result_path.iterdir() if file.is_file()]\n",
    "\n"
   ],
   "id": "ef1fc8b45eeefc6",
   "outputs": [],
   "execution_count": 6
  },
  {
   "metadata": {},
   "cell_type": "code",
   "outputs": [],
   "execution_count": null,
   "source": "",
   "id": "89e14cc17c08df69"
  }
 ],
 "metadata": {
  "kernelspec": {
   "name": "python3",
   "language": "python",
   "display_name": "Python 3 (ipykernel)"
  }
 },
 "nbformat": 5,
 "nbformat_minor": 9
}
